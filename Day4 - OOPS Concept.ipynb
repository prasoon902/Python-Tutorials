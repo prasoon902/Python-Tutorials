{
 "cells": [
  {
   "cell_type": "code",
   "execution_count": 1,
   "metadata": {},
   "outputs": [
    {
     "name": "stdout",
     "output_type": "stream",
     "text": [
      "Will run even if this module is imported.\n",
      "Will be printed only when this module is run\n"
     ]
    }
   ],
   "source": [
    "print(\"Will run even if this module is imported.\")\n",
    "\n",
    "if __name__ ==\"__main__\":\n",
    "    print(\"Will be printed only when this module is run\")"
   ]
  },
  {
   "cell_type": "code",
   "execution_count": 2,
   "metadata": {},
   "outputs": [
    {
     "name": "stdout",
     "output_type": "stream",
     "text": [
      "Hello People\n",
      "12\n",
      "Hello People\n",
      "Done\n"
     ]
    }
   ],
   "source": [
    "from printName import pN\n",
    "\n",
    "class Student(pN):\n",
    "    def __init__(self):\n",
    "        super().printName()\n",
    "    \n",
    "s = Student()\n",
    "print(s.leaves)\n",
    "s.printName()\n",
    "print(\"Done\")        "
   ]
  },
  {
   "cell_type": "code",
   "execution_count": 3,
   "metadata": {},
   "outputs": [
    {
     "name": "stdout",
     "output_type": "stream",
     "text": [
      "{}\n",
      "{'name': 'Ace', 'roll': 14}\n",
      "4\n",
      "8\n",
      "{'name': 'Ace', 'roll': 14}\n"
     ]
    }
   ],
   "source": [
    "class Student:\n",
    "#     Class attribute\n",
    "    leaves = 4\n",
    "    \n",
    "    pass\n",
    "\n",
    "\n",
    "ace = Student()\n",
    "ace.name=\"Ace\"\n",
    "ace.roll=14\n",
    "\n",
    "stu = Student()\n",
    "print(stu.__dict__)\n",
    "\n",
    "print(ace.__dict__)  #Will show the instances inside ace object\n",
    "print(ace.leaves)\n",
    "\n",
    "Student.leaves= 8\n",
    "print(ace.leaves)\n",
    "print(ace.__dict__)\n",
    "# ace.leaves = 10   #This will create a instance inside ace , instead or directly altering leaves instance inside Student class\n",
    "\n",
    "# print(ace.__dict__)  #Will show the instances inside ace object\n"
   ]
  },
  {
   "cell_type": "code",
   "execution_count": 4,
   "metadata": {},
   "outputs": [
    {
     "name": "stdout",
     "output_type": "stream",
     "text": [
      "Name of Student is Ace. Roll number is 14\n",
      "Name of Student is Rohan. Roll number is 41\n"
     ]
    }
   ],
   "source": [
    "class Student:\n",
    "    leaves = 4\n",
    "    \n",
    "# Without self, this function won't be able to take the objects and hence will throw error.\n",
    "    def printdetails(self):\n",
    "        print(f\"Name of Student is {self.name}. Roll number is {self.roll}\")\n",
    "\n",
    "ace = Student()\n",
    "ace.name=\"Ace\"\n",
    "ace.roll=14\n",
    "\n",
    "rohan = Student()\n",
    "rohan.name=\"Rohan\"\n",
    "rohan.roll= 41\n",
    "\n",
    "ace.printdetails()\n",
    "rohan.printdetails()\n"
   ]
  },
  {
   "cell_type": "code",
   "execution_count": 5,
   "metadata": {},
   "outputs": [
    {
     "name": "stdout",
     "output_type": "stream",
     "text": [
      "Constructor called\n"
     ]
    }
   ],
   "source": [
    "# Constructor and Destructor\n",
    "\n",
    "class Student:\n",
    "    leaves = 4\n",
    "    \n",
    "    def __init__(self):\n",
    "        print(\"Constructor called\")\n",
    "    \n",
    "    \n",
    "    def __del__(self):\n",
    "        print(\"Destructor called\")\n",
    "    \n",
    "\n",
    "\n",
    "hope = Student()\n",
    "\n",
    "\n",
    "# Python program to illustrate destructor\n",
    "\n",
    "# class Employee:\n",
    "\n",
    "#     # Initializing\n",
    "#     def __init__(self):\n",
    "#         print('Employee created')\n",
    "\n",
    "#     # Calling destructor\n",
    "#     def __del__(self):\n",
    "#         print(\"Destructor called\")\n",
    "\n",
    "# def Create_obj():\n",
    "#     print('Making Object...')\n",
    "#     obj = Employee()\n",
    "#     print('function end...')\n",
    "#     return obj\n",
    "\n",
    "# print('Calling Create_obj() function...')\n",
    "# obj = Create_obj()\n",
    "# print('Program End...')\n"
   ]
  },
  {
   "cell_type": "code",
   "execution_count": 6,
   "metadata": {},
   "outputs": [
    {
     "name": "stdout",
     "output_type": "stream",
     "text": [
      "Destructor called\n",
      "Hope\n",
      "Hello Guys\n"
     ]
    }
   ],
   "source": [
    "class Student:\n",
    "    leaves = 4\n",
    "    \n",
    "    def __init__(slf,aname,aroll):\n",
    "        slf.name = aname\n",
    "        slf.roll = aroll\n",
    "    \n",
    "# Self is a convention not a keyword\n",
    "    def printdetails(self):\n",
    "        \n",
    "        print('Hello Guys')\n",
    "\n",
    "\n",
    "hope = Student(\"Hope\",31)\n",
    "\n",
    "print(hope.name)\n",
    "\n",
    "hope.printdetails()\n"
   ]
  },
  {
   "cell_type": "code",
   "execution_count": 7,
   "metadata": {},
   "outputs": [
    {
     "name": "stdout",
     "output_type": "stream",
     "text": [
      "In Class4\n",
      "In Class3\n",
      "In Class5\n",
      "2\n"
     ]
    }
   ],
   "source": [
    "# Inheritance\n",
    "# Python program to demonstrate super()\n",
    "\n",
    "class Class1:\n",
    "    a =2\n",
    "    def m(self):\n",
    "        print(\"In Class1\")\n",
    "\n",
    "class Class5:\n",
    "    def m(self):\n",
    "        print(\"In Class5\")\n",
    "\n",
    "# Change the inheritance to Class 5        \n",
    "class Class2(Class1):\n",
    "    def m(self):\n",
    "        print(\"In Class2\")\n",
    "        super().m()\n",
    "\n",
    "class Class3(Class5):\n",
    "    def m(self):\n",
    "        print(\"In Class3\")\n",
    "        super().m()\n",
    "\n",
    "class Class4(Class3, Class2):\n",
    "    def m(self):\n",
    "        print(\"In Class4\")\n",
    "        super().m()\n",
    "\n",
    "obj = Class4()\n",
    "obj.m() #Works on depth first , left to right\n",
    "print(obj.a)\n"
   ]
  },
  {
   "cell_type": "code",
   "execution_count": 8,
   "metadata": {
    "scrolled": true
   },
   "outputs": [
    {
     "name": "stdout",
     "output_type": "stream",
     "text": [
      "XYZ School\n",
      "Steve\n",
      "25\n",
      "20\n"
     ]
    }
   ],
   "source": [
    "# ENCAPSULATION\n",
    "\n",
    "# Public Members\n",
    "class Student:\n",
    "    schoolName = 'XYZ School' # class attribute\n",
    "\n",
    "    def __init__(self, name, age):\n",
    "        self.name=name # instance attribute\n",
    "        self.age=age # instance attribute\n",
    "        \n",
    "std = Student(\"Steve\", 25)\n",
    "print(std.schoolName)\n",
    "print(std.name)\n",
    "print(std.age)\n",
    "std.age = 20\n",
    "print(std.age)\n",
    "\n"
   ]
  },
  {
   "cell_type": "code",
   "execution_count": 9,
   "metadata": {},
   "outputs": [
    {
     "name": "stdout",
     "output_type": "stream",
     "text": [
      "Calling protected member of base class: \n",
      "2\n"
     ]
    }
   ],
   "source": [
    "# ENCAPSULATION\n",
    "# Protected members\n",
    "\n",
    "\n",
    "# Creating a base class\n",
    "class Base:\n",
    "    def __init__(self):\n",
    "\n",
    "        # Protected member\n",
    "        self._a = 2\n",
    "\n",
    "# Creating a derived class\n",
    "class Derived(Base):\n",
    "    def __init__(self):\n",
    "\n",
    "        # Calling constructor of\n",
    "        # Base class\n",
    "        Base.__init__(self)\n",
    "        print(\"Calling protected member of base class: \")\n",
    "        print(self._a)\n",
    "\n",
    "obj1 = Derived()\n",
    "\n",
    "obj2 = Base()\n",
    "\n",
    "# Calling protected member\n",
    "# Outside class will result in\n",
    "# AttributeError\n",
    "\n",
    "# print(obj2.a)\n",
    "\n",
    "# print(obj2._a)\n"
   ]
  },
  {
   "cell_type": "code",
   "execution_count": 10,
   "metadata": {},
   "outputs": [
    {
     "name": "stdout",
     "output_type": "stream",
     "text": [
      "HOPE A\n"
     ]
    }
   ],
   "source": [
    "# ENCAPSULATION\n",
    "# Private Members\n",
    "\n",
    "\n",
    "# Creating a Base class\n",
    "class Base:\n",
    "    def __init__(self):\n",
    "        self.a = \"HOPE A\"\n",
    "        self.__c = \"HOPE C\"\n",
    "\n",
    "# Creating a derived class\n",
    "class Derived(Base):\n",
    "    def __init__(self):\n",
    "\n",
    "        # Calling constructor of\n",
    "        # Base class\n",
    "        Base.__init__(self)\n",
    "        print(\"Calling private member of base class: \")\n",
    "        print(self.__c)\n",
    "# Driver code\n",
    "obj1 = Base()\n",
    "print(obj1.a)\n",
    "\n",
    "# Uncommenting print(obj1.c) will raise an AttributeError\n",
    "\n",
    "# print(obj1.c)\n",
    "# print(obj1._Base__c)\n",
    "\n",
    "# Uncommenting obj2 = Derived() will also raise an AtrributeError\n",
    "# as private member of base class is called inside derived class\n",
    "\n",
    "# obj2 = Derived()"
   ]
  },
  {
   "cell_type": "code",
   "execution_count": 11,
   "metadata": {
    "scrolled": true
   },
   "outputs": [
    {
     "name": "stdout",
     "output_type": "stream",
     "text": [
      "New Delhi\n",
      "Developing country.\n",
      "_______________\n",
      "Washington, D.C.\n",
      "Developed country.\n",
      "_______________\n"
     ]
    }
   ],
   "source": [
    "# POLYMORPHISM\n",
    "\n",
    "# Polymorphism with class methods\n",
    "\n",
    "class India():\n",
    "    def capital(self):\n",
    "        print(\"New Delhi\")\n",
    "\n",
    "    def type(self):\n",
    "        print(\"Developing country.\")\n",
    "\n",
    "class USA():\n",
    "    def capital(self):\n",
    "        print(\"Washington, D.C.\")\n",
    "\n",
    "    def type(self):\n",
    "        print(\"Developed country.\")\n",
    "\n",
    "obj_ind = India()\n",
    "obj_usa = USA()\n",
    "for country in (obj_ind, obj_usa):\n",
    "    country.capital()\n",
    "    country.type()\n",
    "    print(\"_______________\")\n"
   ]
  },
  {
   "cell_type": "code",
   "execution_count": 12,
   "metadata": {},
   "outputs": [
    {
     "name": "stdout",
     "output_type": "stream",
     "text": [
      "There are many types of birds.\n",
      "Most of the birds can fly but some cannot.\n",
      "There are many types of birds.\n",
      "Sparrows can fly.\n",
      "There are many types of birds.\n",
      "Ostriches cannot fly.\n"
     ]
    }
   ],
   "source": [
    "# POLYMORPHISM\n",
    "\n",
    "# Polymorphism with Inheritance\n",
    "class Bird:\n",
    "    def intro(self):\n",
    "        print(\"There are many types of birds.\")\n",
    "\n",
    "    def flight(self):\n",
    "        print(\"Most of the birds can fly but some cannot.\")\n",
    "\n",
    "class sparrow(Bird):\n",
    "    def flight(self):\n",
    "        print(\"Sparrows can fly.\")\n",
    "\n",
    "class ostrich(Bird):\n",
    "    def flight(self):\n",
    "        print(\"Ostriches cannot fly.\")\n",
    "\n",
    "obj_bird = Bird()\n",
    "obj_spr = sparrow()\n",
    "obj_ost = ostrich()\n",
    "\n",
    "obj_bird.intro()\n",
    "obj_bird.flight()\n",
    "\n",
    "obj_spr.intro()\n",
    "obj_spr.flight()\n",
    "\n",
    "obj_ost.intro()\n",
    "obj_ost.flight()\n",
    "\n"
   ]
  },
  {
   "cell_type": "code",
   "execution_count": 13,
   "metadata": {},
   "outputs": [
    {
     "name": "stdout",
     "output_type": "stream",
     "text": [
      "5\n",
      "9\n"
     ]
    }
   ],
   "source": [
    "# POLYMORPHISM\n",
    "\n",
    "# Polymorphism with a Function\n",
    "\n",
    "def add(x,y,z=0):\n",
    "    return x+y+z\n",
    "\n",
    "print(add(2,3))\n",
    "print(add(2,3,4))"
   ]
  },
  {
   "cell_type": "code",
   "execution_count": 19,
   "metadata": {},
   "outputs": [
    {
     "name": "stdout",
     "output_type": "stream",
     "text": [
      "H\n",
      "O\n",
      "P\n",
      "E\n",
      "10\n",
      "11\n",
      "12\n",
      "13\n",
      "14\n",
      "15\n",
      "Help on class range in module builtins:\n",
      "\n",
      "class range(object)\n",
      " |  range(stop) -> range object\n",
      " |  range(start, stop[, step]) -> range object\n",
      " |  \n",
      " |  Return an object that produces a sequence of integers from start (inclusive)\n",
      " |  to stop (exclusive) by step.  range(i, j) produces i, i+1, i+2, ..., j-1.\n",
      " |  start defaults to 0, and stop is omitted!  range(4) produces 0, 1, 2, 3.\n",
      " |  These are exactly the valid indices for a list of 4 elements.\n",
      " |  When step is given, it specifies the increment (or decrement).\n",
      " |  \n",
      " |  Methods defined here:\n",
      " |  \n",
      " |  __bool__(self, /)\n",
      " |      self != 0\n",
      " |  \n",
      " |  __contains__(self, key, /)\n",
      " |      Return key in self.\n",
      " |  \n",
      " |  __eq__(self, value, /)\n",
      " |      Return self==value.\n",
      " |  \n",
      " |  __ge__(self, value, /)\n",
      " |      Return self>=value.\n",
      " |  \n",
      " |  __getattribute__(self, name, /)\n",
      " |      Return getattr(self, name).\n",
      " |  \n",
      " |  __getitem__(self, key, /)\n",
      " |      Return self[key].\n",
      " |  \n",
      " |  __gt__(self, value, /)\n",
      " |      Return self>value.\n",
      " |  \n",
      " |  __hash__(self, /)\n",
      " |      Return hash(self).\n",
      " |  \n",
      " |  __iter__(self, /)\n",
      " |      Implement iter(self).\n",
      " |  \n",
      " |  __le__(self, value, /)\n",
      " |      Return self<=value.\n",
      " |  \n",
      " |  __len__(self, /)\n",
      " |      Return len(self).\n",
      " |  \n",
      " |  __lt__(self, value, /)\n",
      " |      Return self<value.\n",
      " |  \n",
      " |  __ne__(self, value, /)\n",
      " |      Return self!=value.\n",
      " |  \n",
      " |  __reduce__(...)\n",
      " |      Helper for pickle.\n",
      " |  \n",
      " |  __repr__(self, /)\n",
      " |      Return repr(self).\n",
      " |  \n",
      " |  __reversed__(...)\n",
      " |      Return a reverse iterator.\n",
      " |  \n",
      " |  count(...)\n",
      " |      rangeobject.count(value) -> integer -- return number of occurrences of value\n",
      " |  \n",
      " |  index(...)\n",
      " |      rangeobject.index(value) -> integer -- return index of value.\n",
      " |      Raise ValueError if the value is not present.\n",
      " |  \n",
      " |  ----------------------------------------------------------------------\n",
      " |  Static methods defined here:\n",
      " |  \n",
      " |  __new__(*args, **kwargs) from builtins.type\n",
      " |      Create and return a new object.  See help(type) for accurate signature.\n",
      " |  \n",
      " |  ----------------------------------------------------------------------\n",
      " |  Data descriptors defined here:\n",
      " |  \n",
      " |  start\n",
      " |  \n",
      " |  step\n",
      " |  \n",
      " |  stop\n",
      "\n"
     ]
    }
   ],
   "source": [
    "# Iterators\n",
    "\n",
    "txt = \"HOPE\"\n",
    "iterable_obj = iter(txt)\n",
    " \n",
    "while True:\n",
    "    try:\n",
    "        # Iterate by calling next\n",
    "        item = next(iterable_obj)\n",
    "        print(item)\n",
    "    except StopIteration:\n",
    "        # exception will happen when iteration will over\n",
    "        break\n",
    "        \n",
    "        \n",
    "# --------Custom iter----------\n",
    "# A simple Python program to demonstrate\n",
    "# working of iterators using an example type\n",
    "# that iterates from 10 to given value\n",
    "\n",
    "# An iterable user defined type\n",
    "class Test:\n",
    "\n",
    "    # Constructor\n",
    "    def __init__(self, limit):\n",
    "        self.limit = limit\n",
    "\n",
    "    # Creates iterator object\n",
    "    # Called when iteration is initialized\n",
    "    def __iter__(self):\n",
    "        self.x = 10\n",
    "        return self\n",
    "\n",
    "    # To move to next element. In Python 3,\n",
    "    # we should replace next with __next__\n",
    "    def __next__(self):\n",
    "\n",
    "        # Store current value ofx\n",
    "        x = self.x\n",
    "\n",
    "        # Stop iteration if limit is reached\n",
    "        if x > self.limit:\n",
    "            raise StopIteration\n",
    "\n",
    "        # Else increment and return old value\n",
    "        self.x = x + 1;\n",
    "        return x\n",
    "\n",
    "# Prints numbers from 10 to 15\n",
    "for i in Test(15):\n",
    "    print(i)\n",
    "\n",
    "# Prints nothing\n",
    "for i in Test(5):\n",
    "    print(i)\n",
    "\n",
    "# #Can be used to get help for any function.    \n",
    "help(range)"
   ]
  },
  {
   "cell_type": "code",
   "execution_count": 17,
   "metadata": {},
   "outputs": [
    {
     "name": "stdout",
     "output_type": "stream",
     "text": [
      "10\n",
      "20\n",
      "30\n",
      "34\n",
      "0\n",
      "1\n",
      "2\n",
      "0\n",
      "1\n",
      "4\n"
     ]
    }
   ],
   "source": [
    "# Generators\n",
    "def mygen():\n",
    "    yield 10\n",
    "#     return\n",
    "    yield 20\n",
    "    yield 30\n",
    "    yield 34\n",
    "    \n",
    "for i in mygen():\n",
    "    print(i)\n",
    "\n",
    "# --------------------------------------------------------------------\n",
    "\n",
    "def mygen(num):\n",
    "    for i in range(num*num):\n",
    "        yield i\n",
    "        \n",
    "num = 3\n",
    "num = int(num)\n",
    "gen = mygen(num)\n",
    "\n",
    "# #Can be used using For Loop\n",
    "# for i in gen:\n",
    "#     print(i)\n",
    "\n",
    "# #Can be used using next Command\n",
    "print(next(gen))\n",
    "print(next(gen))\n",
    "print(next(gen))\n",
    "\n",
    "# # _--------------------Generator Expression---------\n",
    "squres = (x*x for x in range(5))\n",
    "print(next(squres))\n",
    "print(next(squres))\n",
    "print(next(squres))\n",
    "# print(next(squres))"
   ]
  },
  {
   "cell_type": "code",
   "execution_count": 18,
   "metadata": {},
   "outputs": [
    {
     "name": "stdout",
     "output_type": "stream",
     "text": [
      "BEFORE\n",
      "Something Function\n",
      "AFTER\n"
     ]
    }
   ],
   "source": [
    "#Decorators\n",
    "\n",
    "def dec1(func):\n",
    "    def dec2():\n",
    "        print(\"BEFORE\")\n",
    "        func()\n",
    "        print(\"AFTER\")\n",
    "    return dec2\n",
    "\n",
    "\n",
    "#If we have to perform same action on multiple functions, we can use Decorators\n",
    "@dec1\n",
    "def something():\n",
    "    print(\"Something Function\")\n",
    "    \n",
    "something()\n",
    "\n"
   ]
  },
  {
   "cell_type": "code",
   "execution_count": null,
   "metadata": {},
   "outputs": [],
   "source": []
  }
 ],
 "metadata": {
  "kernelspec": {
   "display_name": "Python 3",
   "language": "python",
   "name": "python3"
  }
 },
 "nbformat": 4,
 "nbformat_minor": 4
}
