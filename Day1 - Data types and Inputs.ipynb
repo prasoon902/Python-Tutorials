{
 "cells": [
  {
   "cell_type": "code",
   "execution_count": 1,
   "metadata": {},
   "outputs": [
    {
     "name": "stdout",
     "output_type": "stream",
     "text": [
      "y\n",
      "<class 'str'>\n",
      "y\n"
     ]
    }
   ],
   "source": [
    "text = \"Awesome Hello\"\n",
    "\n",
    "\n",
    "a=input()\n",
    "print(type(a))\n",
    "print(a)\n",
    "\n"
   ]
  },
  {
   "cell_type": "code",
   "execution_count": 2,
   "metadata": {},
   "outputs": [
    {
     "name": "stdout",
     "output_type": "stream",
     "text": [
      "2\n",
      "<class 'str'>\n",
      "4\n"
     ]
    }
   ],
   "source": [
    "a=input()\n",
    "b=2\n",
    "print(type(a))\n",
    "# c=a+b\n",
    "a = int(a)\n",
    "c=a+b\n",
    "print(c)\n",
    "\n"
   ]
  },
  {
   "cell_type": "code",
   "execution_count": 3,
   "metadata": {},
   "outputs": [
    {
     "name": "stdout",
     "output_type": "stream",
     "text": [
      "2\n",
      "3\n",
      "3\n",
      "2\n"
     ]
    }
   ],
   "source": [
    "x,y=2,3\n",
    "print(x)\n",
    "print(y)\n",
    "x, y = y, x\n",
    "print(x)\n",
    "print(y)"
   ]
  },
  {
   "cell_type": "code",
   "execution_count": 4,
   "metadata": {},
   "outputs": [
    {
     "name": "stdout",
     "output_type": "stream",
     "text": [
      "\"Hello\"\n",
      "7\n",
      "\"\n",
      "l\n"
     ]
    }
   ],
   "source": [
    "a='\"Hello\"'\n",
    "b=\"'Hi'\"\n",
    "c='''Hellloo\n",
    "\n",
    "How are you?'''\n",
    "\n",
    "d= \"\\\"Hello\\\"\"\n",
    "\n",
    "print(d)\n",
    "\n",
    "print(len(d))\n",
    "\n",
    "print(d[0])\n",
    "print(d[-3])\n",
    "# help(str)"
   ]
  },
  {
   "cell_type": "code",
   "execution_count": 5,
   "metadata": {},
   "outputs": [
    {
     "name": "stdout",
     "output_type": "stream",
     "text": [
      "Thi\n",
      "hs\n",
      "git  i\n",
      "3\n"
     ]
    }
   ],
   "source": [
    "str =\"This is a string\"\n",
    "  \n",
    "# slicing using indexing sequence \n",
    "print(str[: 3]) \n",
    "print(str[1 : 5 : 2]) \n",
    "print(str[-1 : -12 : -2])\n",
    "print(str.count(\"i\"))"
   ]
  },
  {
   "cell_type": "code",
   "execution_count": 6,
   "metadata": {},
   "outputs": [
    {
     "name": "stdout",
     "output_type": "stream",
     "text": [
      "Geeks :  1, Portal : 5.333\n",
      "My Name is \"Prasoon\" and age is \"18\" \n",
      "Number one portal is For, Geeks, and Geeks.\n",
      "My Name is \"Prasoon\" and age is \"18\"\n"
     ]
    }
   ],
   "source": [
    "name=\"Prasoon\"\n",
    "age = 18\n",
    "\n",
    "print(\"Geeks : %2d, Portal : %5.3f\" % (1, 05.333))\n",
    "\n",
    "print(f\"My Name is \\\"{name}\\\" and age is \\\"{age}\\\" \")\n",
    "\n",
    "\n",
    "print('Number one portal is {1}, {0}, and {other}.'\n",
    "     .format('Geeks', 'For', other ='Geeks'))\n",
    "\n",
    "print(\"My Name is \\\"{}\\\" and age is \\\"{}\\\"\".format(name,age))"
   ]
  },
  {
   "cell_type": "code",
   "execution_count": 7,
   "metadata": {},
   "outputs": [
    {
     "name": "stdout",
     "output_type": "stream",
     "text": [
      "Apple\n",
      "['Hello', 'Rohan', 'Akash', 7, False]\n",
      "[]\n"
     ]
    }
   ],
   "source": [
    "friends = ['Apple', 'Rohan', 'Akash', 7, False]\n",
    "# friends.reverse()\n",
    "print(friends[0])\n",
    "friends[0]=\"Hello\"\n",
    "print(friends)\n",
    "\n",
    "a=[]\n",
    "# a.append(input())\n",
    "# a.append(input())\n",
    "# a.append(input())\n",
    "\n",
    "print(a)\n",
    "\n",
    "# print(dir(list))\n",
    "# help(a)\n",
    "a.sort()\n",
    "a.sort(reverse=True)\n",
    "\n",
    "# print(a)\n"
   ]
  },
  {
   "cell_type": "code",
   "execution_count": 9,
   "metadata": {},
   "outputs": [
    {
     "name": "stdout",
     "output_type": "stream",
     "text": [
      "(1, 7, 2, 1, [8])\n",
      "2\n",
      "1\n",
      "7\n",
      "2307548016048\n"
     ]
    }
   ],
   "source": [
    "#Tuple\n",
    "\n",
    "a = (1,7,2,1,[8])\n",
    "print(a)\n",
    "print(a.count(1))\n",
    "print(a.index(7))\n",
    "print(a[1])\n",
    "# a[4]=0\n",
    "print(id(a))\n",
    "# help(a)\n",
    "# 2202913651104"
   ]
  },
  {
   "cell_type": "code",
   "execution_count": 10,
   "metadata": {},
   "outputs": [
    {
     "name": "stdout",
     "output_type": "stream",
     "text": [
      "Harry\n"
     ]
    }
   ],
   "source": [
    "#Dictionary\n",
    "\n",
    "a = {\"name\": \"Harry\",\n",
    "    \"from\": \"India\",\n",
    "    \"marks\": [92,98,96],\n",
    "    \"fname\":\"Prasoon\"}\n",
    "\n",
    "print(a[\"name\"])"
   ]
  },
  {
   "cell_type": "code",
   "execution_count": 11,
   "metadata": {},
   "outputs": [
    {
     "name": "stdout",
     "output_type": "stream",
     "text": [
      "set()\n",
      "0\n",
      "{4, 5, 6}\n",
      "{(1, 2, 3), 4, 5, 6}\n",
      "{4, 5, 6, 8, (1, 2, 3)}\n",
      "frozenset({1, 6})\n",
      "2\n"
     ]
    },
    {
     "data": {
      "text/plain": [
       "{6}"
      ]
     },
     "execution_count": 11,
     "metadata": {},
     "output_type": "execute_result"
    }
   ],
   "source": [
    "#Sets\n",
    "\n",
    "x = set()\n",
    "\n",
    "print(x)\n",
    "print(len(x))\n",
    "x.add(4)\n",
    "x.add(4)\n",
    "x.add(6)\n",
    "x.add(4)\n",
    "x.add(5)\n",
    "x.add(5)\n",
    "print(x)\n",
    "x.add((1,2,3))\n",
    "# x.add([1,2,3])   #List is mutable so can't be added to Set\n",
    "print(x)\n",
    "x.add(6)\n",
    "x.add(8)\n",
    "\n",
    "print(x)\n",
    "\n",
    "y = frozenset({1,6})\n",
    "print(y)\n",
    "print(len(y))\n",
    "# y.add(3)\n",
    "# help(x)\n",
    "\n",
    "# x.union(y)\n",
    "x.intersection(y)"
   ]
  },
  {
   "cell_type": "code",
   "execution_count": null,
   "metadata": {},
   "outputs": [],
   "source": [
    "f=open(\"TestFile.txt\",\"a\")\n",
    "f.write(\"\\nHello\")\n",
    "f.close()\n"
   ]
  }
 ],
 "metadata": {
  "kernelspec": {
   "display_name": "Python 3",
   "language": "python",
   "name": "python3"
  },
  "language_info": {
   "codemirror_mode": {
    "name": "ipython",
    "version": 3
   },
   "file_extension": ".py",
   "mimetype": "text/x-python",
   "name": "python",
   "nbconvert_exporter": "python",
   "pygments_lexer": "ipython3",
   "version": "3.8.5"
  }
 },
 "nbformat": 4,
 "nbformat_minor": 4
}
