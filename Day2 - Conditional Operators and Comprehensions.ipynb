{
 "cells": [
  {
   "cell_type": "code",
   "execution_count": 1,
   "metadata": {},
   "outputs": [
    {
     "name": "stdout",
     "output_type": "stream",
     "text": [
      "2\n"
     ]
    }
   ],
   "source": [
    "x=3\n",
    "y=2\n",
    "\n",
    "print(y)"
   ]
  },
  {
   "cell_type": "code",
   "execution_count": 2,
   "metadata": {},
   "outputs": [
    {
     "name": "stdout",
     "output_type": "stream",
     "text": [
      "True\n"
     ]
    }
   ],
   "source": [
    "a = \"This is awesomep\"\n",
    "\n",
    "print(\"p\" in a)"
   ]
  },
  {
   "cell_type": "code",
   "execution_count": 3,
   "metadata": {},
   "outputs": [
    {
     "name": "stdout",
     "output_type": "stream",
     "text": [
      "True\n",
      "False\n",
      "True\n",
      "True\n",
      "True\n",
      "True\n"
     ]
    }
   ],
   "source": [
    "# chaining comparison operators\n",
    "x = 5\n",
    "print(1 < x < 10)\n",
    "print(10 < x < 20 )\n",
    "print(x < 10 < x*10 < 100)\n",
    "print(10 > x <= 9)\n",
    "print(5 == x > 4)\n",
    "print(4<x>1)"
   ]
  },
  {
   "cell_type": "code",
   "execution_count": 4,
   "metadata": {},
   "outputs": [
    {
     "name": "stdout",
     "output_type": "stream",
     "text": [
      "1\n",
      "7\n",
      "8\n",
      "Done\n"
     ]
    }
   ],
   "source": [
    "l = [1, 7, 8]\n",
    "# An optional else can be used with a for loop if the code is to be executed when the loop exhausts.\n",
    "for item in l:\n",
    "    print(item)\n",
    "else:\n",
    "    print(\"Done\")"
   ]
  },
  {
   "cell_type": "code",
   "execution_count": 5,
   "metadata": {},
   "outputs": [
    {
     "name": "stdout",
     "output_type": "stream",
     "text": [
      "Present e\n"
     ]
    }
   ],
   "source": [
    "a=\"Hello\"\n",
    "\n",
    "if 'a' in a:\n",
    "    print(\"Present\")\n",
    "elif 'e' in a:\n",
    "    print(\"Present e\")\n",
    "else:\n",
    "    print(\"Not present\")"
   ]
  },
  {
   "cell_type": "code",
   "execution_count": 6,
   "metadata": {},
   "outputs": [
    {
     "name": "stdout",
     "output_type": "stream",
     "text": [
      "Output List using for loop: [2, 4, 4, 6]\n",
      "Output List using list comprehensions: [8, 16, 16, 24]\n"
     ]
    }
   ],
   "source": [
    "input_list = [1, 2, 3, 4, 4, 5, 6, 7, 7]\n",
    "  \n",
    "output_list = []\n",
    "  \n",
    "# Using loop for constructing output list\n",
    "for var in input_list:\n",
    "    if var % 2 == 0:\n",
    "        output_list.append(var)\n",
    "\n",
    "\n",
    "\n",
    "print(\"Output List using for loop:\", output_list)\n",
    "\n",
    "\n",
    "list_using_comp = [var*4 for var in input_list if var % 2 == 0]\n",
    "  \n",
    "print(\"Output List using list comprehensions:\",list_using_comp)"
   ]
  },
  {
   "cell_type": "code",
   "execution_count": 7,
   "metadata": {},
   "outputs": [
    {
     "name": "stdout",
     "output_type": "stream",
     "text": [
      "Output Dictionary using for loop: {1: 1, 3: 27, 5: 125, 7: 343}\n",
      "Output Dictionary using dictionary comprehensions: {1: 1, 3: 27, 5: 125, 7: 343}\n"
     ]
    }
   ],
   "source": [
    "input_list = [1, 2, 3, 4, 5, 6, 7]\n",
    "  \n",
    "output_dict = {}\n",
    "  \n",
    "# Using loop for constructing output dictionary\n",
    "for var in input_list:\n",
    "    if var % 2 != 0:\n",
    "        output_dict[var] = var**3\n",
    "        \n",
    "print(\"Output Dictionary using for loop:\",\n",
    "                             output_dict )\n",
    "\n",
    "# Using Dictionary comprehensions\n",
    "# for constructing output dictionary\n",
    "  \n",
    "input_list = [1,2,3,4,4,5,6,7]\n",
    "  \n",
    "dict_using_comp = {var:var ** 3 for var in input_list if var % 2 != 0}\n",
    "  \n",
    "print(\"Output Dictionary using dictionary comprehensions:\",\n",
    "                                           dict_using_comp)"
   ]
  },
  {
   "cell_type": "code",
   "execution_count": 8,
   "metadata": {},
   "outputs": [
    {
     "name": "stdout",
     "output_type": "stream",
     "text": [
      "Output Set using for loop: {2, 4, 6}\n",
      "Output Set using set comprehensions: {2, 4, 6}\n"
     ]
    }
   ],
   "source": [
    "input_list = [1, 2, 3, 4, 4, 5, 6, 6, 6, 7, 7]\n",
    "  \n",
    "output_set = set()\n",
    "  \n",
    "# Using loop for constructing output set\n",
    "for var in input_list:\n",
    "    if var % 2 == 0:\n",
    "        output_set.add(var)\n",
    "        \n",
    "print(\"Output Set using for loop:\", output_set)\n",
    "\n",
    "# Using Set comprehensions \n",
    "# for constructing output set\n",
    "  \n",
    "set_using_comp = {var for var in input_list if var % 2 == 0}\n",
    "  \n",
    "print(\"Output Set using set comprehensions:\",\n",
    "                              set_using_comp)"
   ]
  },
  {
   "cell_type": "code",
   "execution_count": 9,
   "metadata": {},
   "outputs": [
    {
     "name": "stdout",
     "output_type": "stream",
     "text": [
      "0\n",
      "Exception\n",
      "Finally Block\n"
     ]
    }
   ],
   "source": [
    "try:\n",
    "#     Goes here first and checks\n",
    "    for i in range(4):\n",
    "        print(i)\n",
    "        print(i/0)\n",
    "    \n",
    "except:\n",
    "#     IF exception in try comes here\n",
    "    print(\"Exception\")\n",
    "    \n",
    "else:\n",
    "#     If no exception in try.. comes here\n",
    "    print(\"Testing\")\n",
    "    \n",
    "finally:\n",
    "#     Executes it at end no matter exception is there or not.\n",
    "    print(\"Finally Block\")\n",
    "\n"
   ]
  }
 ],
 "metadata": {
  "kernelspec": {
   "display_name": "Python 3",
   "language": "python",
   "name": "python3"
  },
  "language_info": {
   "codemirror_mode": {
    "name": "ipython",
    "version": 3
   },
   "file_extension": ".py",
   "mimetype": "text/x-python",
   "name": "python",
   "nbconvert_exporter": "python",
   "pygments_lexer": "ipython3",
   "version": "3.8.5"
  }
 },
 "nbformat": 4,
 "nbformat_minor": 4
}
