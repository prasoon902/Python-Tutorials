{
 "cells": [
  {
   "cell_type": "code",
   "execution_count": 1,
   "metadata": {},
   "outputs": [
    {
     "name": "stdout",
     "output_type": "stream",
     "text": [
      "Function 1\n",
      "Function 1\n",
      "This is a docstring. \n",
      "    This is a test to print docstring\n"
     ]
    }
   ],
   "source": [
    "def func1(x):\n",
    "    '''This is a docstring. \n",
    "    This is a test to print docstring'''\n",
    "    \n",
    "    \n",
    "    print(\"Function \"+str(x))\n",
    "    \n",
    "func1(1)\n",
    "func2 = func1\n",
    "del func1     \n",
    "func2(1)\n",
    "\n",
    "print(func2.__doc__)\n"
   ]
  },
  {
   "cell_type": "code",
   "execution_count": 2,
   "metadata": {},
   "outputs": [
    {
     "name": "stdout",
     "output_type": "stream",
     "text": [
      "Hello ,Alex\n",
      "Hello ,Stranger\n"
     ]
    }
   ],
   "source": [
    "\n",
    "# Default parameter\n",
    "def hey(name=\"Stranger\"):\n",
    "    \n",
    "# def hey(name):\n",
    "    msg= \"Hello ,\"+name\n",
    "    return msg\n",
    "\n",
    "print(hey(\"Alex\"))\n",
    "print(hey())"
   ]
  },
  {
   "cell_type": "code",
   "execution_count": 3,
   "metadata": {},
   "outputs": [
    {
     "name": "stdout",
     "output_type": "stream",
     "text": [
      "('C:\\\\path', 'TestFile6.txt')\n",
      "False\n",
      "C:\\path\\TestFile.txt\n"
     ]
    }
   ],
   "source": [
    "\n",
    "import os\n",
    "\n",
    "\n",
    "#OS module\n",
    "# print(os.getcwd())    #Used for getting current directory \n",
    "file_path =r\"C:\\path\\TestFile6.txt\"\n",
    "file_path2= \"C://path//TestFile.txt\"\n",
    "file_path3 =\"C:\\\\path\\\\TestFile.txt\"\n",
    "print(os.path.split(file_path))\n",
    "print(os.path.exists(file_path))\n",
    "print(os.path.abspath(file_path3))\n",
    "\n",
    "\n",
    "#"
   ]
  },
  {
   "cell_type": "code",
   "execution_count": 4,
   "metadata": {},
   "outputs": [
    {
     "name": "stdout",
     "output_type": "stream",
     "text": [
      "time.struct_time(tm_year=2021, tm_mon=10, tm_mday=7, tm_hour=13, tm_min=18, tm_sec=5, tm_wday=3, tm_yday=280, tm_isdst=0)\n",
      "2021\n",
      "Thu Oct  7 13:18:05 2021\n"
     ]
    }
   ],
   "source": [
    "import time\n",
    "\n",
    "print(time.localtime())\n",
    "a= time.localtime()\n",
    "print(a.tm_year)\n",
    "# print(time.sleep(5))\n",
    "print(time.ctime())\n",
    "# help(time)"
   ]
  },
  {
   "cell_type": "code",
   "execution_count": 5,
   "metadata": {},
   "outputs": [
    {
     "name": "stdout",
     "output_type": "stream",
     "text": [
      "6\n",
      "9.0\n",
      "False\n"
     ]
    }
   ],
   "source": [
    "import math\n",
    "\n",
    "\n",
    "print(math.factorial(3))\n",
    "print(math.pow(3,2))\n",
    "print(math.isnan(4))\n",
    "# help(math)"
   ]
  },
  {
   "cell_type": "code",
   "execution_count": 6,
   "metadata": {},
   "outputs": [
    {
     "name": "stdout",
     "output_type": "stream",
     "text": [
      "Name :Hello\n",
      "This\n",
      "is\n",
      "a\n",
      "Trail\n",
      "Name :Ohayoo\n"
     ]
    }
   ],
   "source": [
    "# *args and **kwargs\n",
    "\n",
    "def myFun(name,*heel):\n",
    "    print(\"Name :\"+name)\n",
    "    for arg in heel:\n",
    "        print (arg)\n",
    "        \n",
    "myFun('Hello', 'This', 'is','a', 'Trail')\n",
    "myFun('Ohayoo')\n",
    "# myFun()  #This will throw TypeError cause myFun function needs atleast 1 argument."
   ]
  },
  {
   "cell_type": "code",
   "execution_count": 7,
   "metadata": {},
   "outputs": [
    {
     "name": "stdout",
     "output_type": "stream",
     "text": [
      "Hey,\n",
      "first --> test\n",
      "mid --> testing\n",
      "last --> tested\n"
     ]
    }
   ],
   "source": [
    "#**kwargs\n",
    "\n",
    " \n",
    "def myFun(name,**kwargs):\n",
    "    print(name)\n",
    "    for key, value in kwargs.items():\n",
    "        print (key+\" --> \"+value)\n",
    "\n",
    "# Driver code\n",
    "myFun(\"Hey,\",first ='test', mid ='testing', last='tested')  \n",
    "# myFun()   #This will throw TypeError cause myFun function needs atleast 1 argument."
   ]
  },
  {
   "cell_type": "code",
   "execution_count": 9,
   "metadata": {},
   "outputs": [
    {
     "name": "stdout",
     "output_type": "stream",
     "text": [
      "4\n",
      "[4, 9, 16, 25, 36]\n",
      "[4, 9, 16, 25, 36]\n",
      "[2, 4, 6]\n",
      "20\n"
     ]
    }
   ],
   "source": [
    "# Lambda , Map , Filter , Reduce\n",
    "from functools import reduce\n",
    "#Not an inbuilt function in Python3\n",
    "\n",
    "square = lambda x:x*x\n",
    "print(square(2))\n",
    "ash=[]\n",
    "input_list = [2,3,4,5,6]\n",
    "for i in input_list:\n",
    "    ash.append(square(i))\n",
    "\n",
    "print(ash)    \n",
    "#Map\n",
    "\n",
    "a =map(square,input_list)\n",
    "\n",
    "print(list(a))\n",
    "\n",
    "#Filter\n",
    "print(list(filter(lambda x:x%2==0,input_list)))\n",
    "\n",
    "\n",
    "#Reduce\n",
    "print(reduce(lambda x,y:x+y,input_list))"
   ]
  },
  {
   "cell_type": "code",
   "execution_count": 14,
   "metadata": {},
   "outputs": [
    {
     "name": "stdout",
     "output_type": "stream",
     "text": [
      "f1\n",
      "Hello\n",
      "f2\n",
      "Marshal\n",
      "Hello\n",
      "\n",
      "------------------\n",
      "\n",
      "['Outer']\n",
      "['Inner']\n",
      "['Inner']\n",
      "\n",
      "------------------\n",
      "\n",
      "Outer\n",
      "Me too\n",
      "Me too\n",
      "\n",
      "------------------\n",
      "\n",
      "Outer\n",
      "Me too\n",
      "Me too\n",
      "\n",
      "------------------\n",
      "\n",
      "f1\n",
      "f2\n",
      "f2\n"
     ]
    }
   ],
   "source": [
    "# Nested Functions\n",
    "def f1():\n",
    "    print(\"f1\")\n",
    "    s=\"Hello\"\n",
    "    print(s)\n",
    "    def f2():\n",
    "        s=\"Marshal\"\n",
    "        print(\"f2\")\n",
    "        print(s)\n",
    "    \n",
    "    f2()\n",
    "    print(s)\n",
    "#closure\n",
    "f1()\n",
    "print(\"\\n------------------\\n\")\n",
    "\n",
    "\n",
    "# Python program to\n",
    "# demonstrate accessing of\n",
    "# variables of nested functions\n",
    "\n",
    "def f1():\n",
    "    s = ['Outer']\n",
    "    print(s)\n",
    "    def f2():\n",
    "        s[0] = 'Inner'\n",
    "        print(s)\n",
    "\n",
    "    f2()\n",
    "    print(s)\n",
    "\n",
    "# Driver's code\n",
    "f1()\n",
    "print(\"\\n------------------\\n\")\n",
    "\n",
    "# Python program to\n",
    "# demonstrate accessing of\n",
    "# variables of nested functions\n",
    "\n",
    "def f1():\n",
    "    s = 'Outer'\n",
    "    print(s)\n",
    "    def f2():\n",
    "        nonlocal s\n",
    "        s = 'Me too'\n",
    "        print(s)\n",
    "\n",
    "    f2()\n",
    "    print(s)\n",
    "\n",
    "# Driver's code\n",
    "f1()\n",
    "print(\"\\n------------------\\n\")\n",
    "\n",
    "# Python program to\n",
    "# demonstrate accessing of\n",
    "# variables of nested functions\n",
    "\n",
    "def f1():\n",
    "    s = 'Outer'\n",
    "    print(s)\n",
    "    def f2():\n",
    "        f1.s = 'Me too'\n",
    "        print(f1.s)\n",
    "\n",
    "    f2()\n",
    "    print(f1.s)\n",
    "\n",
    "# Driver's code\n",
    "f1()\n",
    "print(\"\\n------------------\\n\")\n",
    "\n",
    "#closure\n",
    "def f1():\n",
    "    print(\"f1\")\n",
    "    \n",
    "    def f2():\n",
    "        print(\"f2\")\n",
    "    \n",
    "#     f2()\n",
    "    return f2\n",
    "    \n",
    "\n",
    "a=f1()\n",
    "a()"
   ]
  },
  {
   "cell_type": "code",
   "execution_count": null,
   "metadata": {},
   "outputs": [],
   "source": []
  }
 ],
 "metadata": {
  "kernelspec": {
   "display_name": "Python 3",
   "language": "python",
   "name": "python3"
  },
  "language_info": {
   "codemirror_mode": {
    "name": "ipython",
    "version": 3
   },
   "file_extension": ".py",
   "mimetype": "text/x-python",
   "name": "python",
   "nbconvert_exporter": "python",
   "pygments_lexer": "ipython3",
   "version": "3.8.5"
  }
 },
 "nbformat": 4,
 "nbformat_minor": 4
}
